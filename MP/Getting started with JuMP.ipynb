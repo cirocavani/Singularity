{
 "cells": [
  {
   "cell_type": "markdown",
   "metadata": {},
   "source": [
    "Source:\n",
    "\n",
    "http://nbviewer.ipython.org/github/JuliaOpt/juliaopt-notebooks/blob/master/notebooks/Shuvomoy%20-%20Getting%20started%20with%20JuMP.ipynb"
   ]
  },
  {
   "cell_type": "markdown",
   "metadata": {},
   "source": [
    "## Example 1\n",
    "\n",
    "$$\n",
    "\\begin{align}\n",
    "\\text{minimize} \\qquad & x+y \\\\\n",
    " \\text{subject to} \\quad \\quad & x+y \\leq 1 \\\\\n",
    " \\qquad \\qquad & x \\geq 0, y \\geq 0 \\\\\n",
    " \\qquad \\qquad & x,y \\in \\mathbb{R}\n",
    "\\end{align}\n",
    "$$"
   ]
  },
  {
   "cell_type": "code",
   "execution_count": 1,
   "metadata": {
    "collapsed": true
   },
   "outputs": [],
   "source": [
    "using JuMP"
   ]
  },
  {
   "cell_type": "code",
   "execution_count": null,
   "metadata": {
    "collapsed": false
   },
   "outputs": [],
   "source": [
    "m = Model()\n",
    "\n",
    "@defVar(m, x ≥ 0)\n",
    "@defVar(m, y ≥ 0)\n",
    "\n",
    "@setObjective(m, Min, x + y)\n",
    "\n",
    "@addConstraint(m, x + y ≤ 1)\n",
    "\n",
    "println(\"The optimization problem to be solved is:\")\n",
    "print(m)\n",
    "\n",
    "status = solve(m)\n",
    "\n",
    "println(\"Objective value: \", getObjectiveValue(m))\n",
    "println(\"x = \", getValue(x))\n",
    "println(\"y = \", getValue(y))"
   ]
  },
  {
   "cell_type": "markdown",
   "metadata": {},
   "source": [
    "## Example 2\n",
    "\n",
    "$$\n",
    "\\begin{align}\n",
    "& \\text{minimize} && c^T x \\\\\n",
    "& \\text{subject to} && A x = b \\\\\n",
    "&                   && x \\succeq 0 \\\\\n",
    "&                   && x \\in \\mathbb{R}^n\n",
    "\\end{align}\n",
    "$$\n",
    "\n",
    "* $n = 4$\n",
    "* $c=(1, 3, 5, 2)$\n",
    "* $A = \\begin{pmatrix}\n",
    "  1 & 1 & 9 & 5 \\\\\n",
    "  3 & 5 & 0 & 8 \\\\\n",
    "  2 & 0 & 6 & 13\n",
    " \\end{pmatrix}$\n",
    "* $b=(7, 3, 5)$"
   ]
  },
  {
   "cell_type": "code",
   "execution_count": 2,
   "metadata": {
    "collapsed": false
   },
   "outputs": [
    {
     "name": "stdout",
     "output_type": "stream",
     "text": [
      "The optimization problem to be solved is:\n",
      "Min x[1] + 3 x[2] + 5 x[3] + 2 x[4]\n",
      "Subject to\n",
      " x[1] + x[2] + 9 x[3] + 5 x[4] = 7\n",
      " 3 x[1] + 5 x[2] + 8 x[4] = 3\n",
      " 2 x[1] + 6 x[3] + 13 x[4] = 5\n",
      " x[i] ≥ 0 ∀ i ∈ {1,2,3,4}\n",
      "Objective value: 4.923076923076924\n",
      "Optimal solution is x = \n",
      "[0.4230769230769227,0.3461538461538465,0.6923076923076924,0.0]\n"
     ]
    }
   ],
   "source": [
    "n = 4\n",
    "c = [1; 3; 5; 2]\n",
    "A = [1 1 9 5; 3 5 0 8; 2 0 6 13]\n",
    "b = [7; 3; 5]\n",
    "\n",
    "m = Model()\n",
    "@defVar(m, x[1:n] ≥ 0)\n",
    "\n",
    "@setObjective(m, Min, sum{c[j] * x[j], j=1:n})\n",
    "\n",
    "for i=1:size(A, 1)\n",
    "    @addConstraint(m, sum{A[i,j] * x[j], j=1:n} == b[i])\n",
    "end\n",
    "\n",
    "println(\"The optimization problem to be solved is:\")\n",
    "print(m)\n",
    "\n",
    "status = solve(m)\n",
    "\n",
    "println(\"Objective value: \", getObjectiveValue(m))\n",
    "println(\"Optimal solution is x = \\n\", getValue(x))"
   ]
  }
 ],
 "metadata": {
  "kernelspec": {
   "display_name": "Julia 0.4.1",
   "language": "julia",
   "name": "julia-0.4"
  },
  "language_info": {
   "file_extension": ".jl",
   "mimetype": "application/julia",
   "name": "julia",
   "version": "0.4.1"
  }
 },
 "nbformat": 4,
 "nbformat_minor": 0
}
