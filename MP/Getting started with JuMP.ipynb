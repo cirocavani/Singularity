{
 "cells": [
  {
   "cell_type": "markdown",
   "metadata": {},
   "source": [
    "Source:\n",
    "\n",
    "http://nbviewer.ipython.org/github/JuliaOpt/juliaopt-notebooks/blob/master/notebooks/Shuvomoy%20-%20Getting%20started%20with%20JuMP.ipynb"
   ]
  },
  {
   "cell_type": "code",
   "execution_count": 1,
   "metadata": {
    "collapsed": true
   },
   "outputs": [],
   "source": [
    "using JuMP"
   ]
  },
  {
   "cell_type": "markdown",
   "metadata": {},
   "source": [
    "## Example 1: trivial optimization problem\n",
    "\n",
    "$$\n",
    "\\begin{align}\n",
    "\\text{minimize} \\qquad & x+y \\\\\n",
    " \\text{subject to} \\quad \\quad & x+y \\leq 1 \\\\\n",
    " \\qquad \\qquad & x \\geq 0, y \\geq 0 \\\\\n",
    " \\qquad \\qquad & x,y \\in \\mathbb{R}\n",
    "\\end{align}\n",
    "$$"
   ]
  },
  {
   "cell_type": "code",
   "execution_count": 2,
   "metadata": {
    "collapsed": false
   },
   "outputs": [
    {
     "name": "stdout",
     "output_type": "stream",
     "text": [
      "The optimization problem to be solved is:\n",
      "\n",
      "Min x + y\n",
      "Subject to\n",
      " x + y ≤ 1\n",
      " x ≥ 0\n",
      " y ≥ 0\n",
      "\n",
      "Status of the problem is Optimal\n",
      "\n",
      "Objective value:\n",
      "\n",
      "0.0\n",
      "\n",
      "Optimal solution:\n",
      "\n",
      "x = 0.0\n",
      "y = 0.0\n"
     ]
    }
   ],
   "source": [
    "let model = Model()\n",
    "    @defVar(model, x ≥ 0)\n",
    "    @defVar(model, y ≥ 0)\n",
    "\n",
    "    @setObjective(model, Min, x + y)\n",
    "\n",
    "    @addConstraint(model, x + y ≤ 1)\n",
    "\n",
    "    println(\"The optimization problem to be solved is:\\n\\n\", model)\n",
    "\n",
    "    status = solve(model)\n",
    "\n",
    "    println(\"Status of the problem is \", status, \"\\n\")\n",
    "\n",
    "    if status == :Optimal\n",
    "        println(\"Objective value:\\n\\n\", getObjectiveValue(model), \"\\n\")\n",
    "        println(\"Optimal solution:\\n\")\n",
    "        println(\"x = \", getValue(x))\n",
    "        println(\"y = \", getValue(y))\n",
    "    end\n",
    "end"
   ]
  },
  {
   "cell_type": "markdown",
   "metadata": {},
   "source": [
    "## Example 2: Linear Programming\n",
    "\n",
    "$$\n",
    "\\begin{align}\n",
    "& \\text{minimize} && c^T x \\\\\n",
    "& \\text{subject to} && A x = b \\\\\n",
    "&                   && x \\succeq 0 \\\\\n",
    "&                   && x \\in \\mathbb{R}^n\n",
    "\\end{align}\n",
    "$$\n",
    "\n",
    "* $n = 4$\n",
    "* $c=(1, 3, 5, 2)$\n",
    "* $A = \\begin{pmatrix}\n",
    "  1 & 1 & 9 & 5 \\\\\n",
    "  3 & 5 & 0 & 8 \\\\\n",
    "  2 & 0 & 6 & 13\n",
    " \\end{pmatrix}$\n",
    "* $b=(7, 3, 5)$"
   ]
  },
  {
   "cell_type": "code",
   "execution_count": 3,
   "metadata": {
    "collapsed": false
   },
   "outputs": [
    {
     "name": "stdout",
     "output_type": "stream",
     "text": [
      "The optimization problem to be solved is:\n",
      "\n",
      "Min x[1] + 3 x[2] + 5 x[3] + 2 x[4]\n",
      "Subject to\n",
      " x[1] + x[2] + 9 x[3] + 5 x[4] = 7\n",
      " 3 x[1] + 5 x[2] + 8 x[4] = 3\n",
      " 2 x[1] + 6 x[3] + 13 x[4] = 5\n",
      " x[i] ≥ 0 ∀ i ∈ {1,2,3,4}\n",
      "\n",
      "Status of the problem is Optimal\n",
      "\n",
      "Objective value:\n",
      "\n",
      "4.923076923076924\n",
      "\n",
      "Optimal solution:\n",
      "\n",
      "x = [0.4230769230769227,0.3461538461538465,0.6923076923076924,0.0]\n"
     ]
    }
   ],
   "source": [
    "let n = 4,\n",
    "    c = [1, 3, 5, 2],\n",
    "    A = [1 1 9 5; 3 5 0 8; 2 0 6 13],\n",
    "    b = [7, 3, 5],\n",
    "    model = Model()\n",
    "    \n",
    "    @defVar(model, x[1:n] ≥ 0)\n",
    "\n",
    "    @setObjective(model, Min, sum{c[j] * x[j], j=1:n})\n",
    "\n",
    "    for i=1:size(A, 1)\n",
    "        @addConstraint(model, sum{A[i,j] * x[j], j=1:n} == b[i])\n",
    "    end\n",
    "\n",
    "    println(\"The optimization problem to be solved is:\\n\\n\", model)\n",
    "\n",
    "    status = solve(model)\n",
    "\n",
    "    println(\"Status of the problem is \", status, \"\\n\")\n",
    "\n",
    "    if status == :Optimal\n",
    "        println(\"Objective value:\\n\\n\", getObjectiveValue(model), \"\\n\")\n",
    "        println(\"Optimal solution:\\n\\n\", \"x = \", getValue(x))\n",
    "    end\n",
    "end"
   ]
  },
  {
   "cell_type": "markdown",
   "metadata": {},
   "source": [
    "## Example 3: Mixed Integer Programming\n",
    "\n",
    "$$\n",
    "\\begin{align}\n",
    "& \\text{minimize} && c^T x + d^T y\\\\\n",
    "& \\text{subject to} && A x + B y= f \\\\\n",
    " &                   && x \\succeq 0, y \\succeq 0 \\\\\n",
    " &                   && x \\in \\mathbb{R}^n, y \\in \\mathbb{Z}^p\n",
    "\\end{align}\n",
    "$$\n",
    "\n",
    "* $A \\in \\mathbb{R}^{m \\times n}$\n",
    "* $B \\in \\mathbb{R}^{m \\times p}$\n",
    "* $c \\in \\mathbb{R}^n$\n",
    "* $d \\in \\mathbb{R}^p$\n",
    "* $f \\in \\mathbb{R}^m$"
   ]
  },
  {
   "cell_type": "code",
   "execution_count": 4,
   "metadata": {
    "collapsed": false
   },
   "outputs": [
    {
     "name": "stdout",
     "output_type": "stream",
     "text": [
      "The optimization problem to be solved is:\n",
      "\n",
      "Min 0.3468 x[1] + 0.8687 x[2] + 0.12 x[3] + 0.5024 x[4] + 0.2884 x[5] + 0.2017 y[1] + 0.2712 y[2] + 0.4997 y[3] + 0.9238 y[4]\n",
      "Subject to\n",
      " 0.7511 x[1] - 0.1357 x[2] + 0.7955 x[3] - 0.4567 x[4] + 0.1356 x[5] - 0.0952 y[1] - 0.28056 y[2] - 1.33978 y[3] + 0.6506 y[4] = 0.1716\n",
      " -0.667 x[1] - 0.3326 x[2] + 0.1657 x[3] - 0.5519 x[4] - 0.9367 x[5] - 0.8581 y[1] - 0.3518 y[2] + 1.2788 y[3] + 1.5114 y[4] = 0.361\n",
      " 1.5894 x[1] - 0.1302 x[2] - 0.4313 x[3] - 0.4875 x[4] + 0.4179 x[5] - 0.5925 y[1] + 1.3477 y[2] + 0.1589 y[3] + 0.03495 y[4] = 0.0705\n",
      " x[i] ≥ 0 ∀ i ∈ {1,2,…,4,5}\n",
      " y[i] ≥ 0, integer, ∀ i ∈ {1,2,3,4}\n",
      "\n",
      "Status of the problem is Optimal\n",
      "\n",
      "Objective value:\n",
      "\n",
      "1.0702779559835982\n",
      "\n",
      "Optimal solution:\n",
      "\n",
      "x = [0.06549067260370238,0.0,1.6298599862096397,0.0,1.2215069083893106]\n",
      "y = [0.0,0.0,0.9999999999999999,0.0]\n"
     ]
    }
   ],
   "source": [
    "let n = 5,\n",
    "    p = 4,\n",
    "    m = 3,\n",
    "    A = [0.7511 -0.1357 0.7955 -0.4567 0.1356;\n",
    "        -0.6670 -0.3326 0.1657 -0.5519 -0.9367;\n",
    "        1.5894 -0.1302 -0.4313 -0.4875 0.4179],\n",
    "    B = [-0.09520 -0.28056 -1.33978 0.6506;\n",
    "        -0.8581 -0.3518 1.2788 1.5114;\n",
    "        -0.5925 1.3477 0.1589 0.03495],\n",
    "    c = [0.3468, 0.8687, 0.1200, 0.5024, 0.2884],\n",
    "    d = [0.2017, 0.2712, 0.4997, 0.9238],\n",
    "    f = [0.1716, 0.3610, 0.0705],\n",
    "    model = Model()\n",
    "    \n",
    "    @defVar(model, x[1:n] ≥ 0)\n",
    "    @defVar(model, y[1:p] ≥ 0, Int)\n",
    "    \n",
    "    @setObjective(model, Min, sum{c[i] * x[i], i=1:n} + sum{d[i] * y[i], i=1:p})\n",
    "    \n",
    "    for i=1:m\n",
    "        @addConstraint(model, sum{A[i,j] * x[j], j=1:n} + sum{B[i,j] * y[j], j=1:p} == f[i])\n",
    "    end\n",
    "    \n",
    "\n",
    "    println(\"The optimization problem to be solved is:\\n\\n\", model)\n",
    "\n",
    "    status = solve(model)\n",
    "\n",
    "    println(\"Status of the problem is \", status, \"\\n\")\n",
    "\n",
    "    if status == :Optimal\n",
    "        println(\"Objective value:\\n\\n\", getObjectiveValue(model), \"\\n\")\n",
    "        println(\"Optimal solution:\\n\")\n",
    "        println(\"x = \", getValue(x))\n",
    "        println(\"y = \", getValue(y))\n",
    "    end\n",
    "end"
   ]
  }
 ],
 "metadata": {
  "kernelspec": {
   "display_name": "Julia 0.4.1",
   "language": "julia",
   "name": "julia-0.4"
  },
  "language_info": {
   "file_extension": ".jl",
   "mimetype": "application/julia",
   "name": "julia",
   "version": "0.4.1"
  }
 },
 "nbformat": 4,
 "nbformat_minor": 0
}
