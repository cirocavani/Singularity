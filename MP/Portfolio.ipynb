{
 "cells": [
  {
   "cell_type": "code",
   "execution_count": null,
   "metadata": {
    "collapsed": false
   },
   "outputs": [],
   "source": [
    "using JuMP, Ipopt, Interact, Gadfly"
   ]
  },
  {
   "cell_type": "code",
   "execution_count": null,
   "metadata": {
    "collapsed": false
   },
   "outputs": [],
   "source": [
    "n = 5\n",
    "data = randn(100, n)\n",
    "μ, Σ = vec(mean(data, 1)), cov(data)\n",
    "\n",
    "r_min = 1.7\n",
    "\n",
    "p = Model()\n",
    "#p = Model(solver = IpoptSolver(print_level=0))\n",
    "@defVar(p, 0 ≤ x[1:n] ≤ 1)\n",
    "@addConstraint(p, sum(x) == 1)\n",
    "@addConstraint(p, μ ⋅ x ≥ r_min)\n",
    "@setObjective(p, Min, sum{Σ[i,j] * x[i] * x[j], i=1:n, j=1:n})\n",
    "solve(p)\n",
    "\n",
    "plot(x = data * getValue(x)[:], Geom.density, Guide.xlabel(\"Return\"), Guide.ylabel(\"Density\"))"
   ]
  },
  {
   "cell_type": "code",
   "execution_count": null,
   "metadata": {
    "collapsed": false
   },
   "outputs": [],
   "source": [
    "@manipulate for r_min=1.0:0.1:2.0\n",
    "    p = Model()\n",
    "    #p = Model(solver = IpoptSolver(print_level=0))\n",
    "    @defVar(p, 0 ≤ x[1:n] ≤ 1)\n",
    "    @addConstraint(p, sum(x) == 1)\n",
    "    @addConstraint(p, μ ⋅ x ≥ r_min)\n",
    "    @setObjective(p, Min, sum{Σ[i,j] * x[i] * x[j], i=1:n, j=1:n})\n",
    "    solve(p)\n",
    "\n",
    "    plot(x = data * getValue(x)[:], Geom.density, Guide.xlabel(\"Return\"), Guide.ylabel(\"Density\"))\n",
    "end"
   ]
  }
 ],
 "metadata": {
  "kernelspec": {
   "display_name": "Julia 0.4.0",
   "language": "julia",
   "name": "julia-0.4"
  },
  "language_info": {
   "file_extension": ".jl",
   "mimetype": "application/julia",
   "name": "julia",
   "version": "0.4.0"
  }
 },
 "nbformat": 4,
 "nbformat_minor": 0
}
